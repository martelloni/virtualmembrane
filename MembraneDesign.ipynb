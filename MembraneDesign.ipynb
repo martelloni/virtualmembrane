{
 "cells": [
  {
   "cell_type": "code",
   "execution_count": null,
   "metadata": {},
   "outputs": [],
   "source": [
    "import numpy as np\n",
    "import matplotlib.pyplot as plt"
   ]
  },
  {
   "cell_type": "code",
   "execution_count": null,
   "metadata": {},
   "outputs": [],
   "source": [
    "radius = 3.\n",
    "\n",
    "circlefn = lambda x, y: (x - radius) ** 2 + (y - radius) ** 2 - radius ** 2\n",
    "\n",
    "x = np.arange(0, 6, 0.01)\n",
    "y = np.arange(0, 6, 0.01)\n",
    "xx, yy = np.meshgrid(x, y, sparse=True)\n",
    "z = circlefn(xx, yy)\n",
    "h = plt.contourf(x,y,z >= 0)"
   ]
  },
  {
   "cell_type": "code",
   "execution_count": null,
   "metadata": {},
   "outputs": [],
   "source": []
  }
 ],
 "metadata": {
  "language_info": {
   "codemirror_mode": {
    "name": "ipython",
    "version": 3
   },
   "file_extension": ".py",
   "mimetype": "text/x-python",
   "name": "python",
   "nbconvert_exporter": "python",
   "pygments_lexer": "ipython3",
   "version": "3.8.2-final"
  },
  "orig_nbformat": 2,
  "kernelspec": {
   "name": "python3",
   "display_name": "Python 3"
  }
 },
 "nbformat": 4,
 "nbformat_minor": 2
}