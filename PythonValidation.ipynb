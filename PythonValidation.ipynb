{
 "cells": [
  {
   "cell_type": "code",
   "execution_count": 22,
   "metadata": {},
   "outputs": [],
   "source": [
    "import numpy as np\n",
    "from matplotlib import pyplot as plt\n",
    "import DSPPythonWrapper as wrp\n"
   ]
  },
  {
   "cell_type": "code",
   "execution_count": 23,
   "metadata": {},
   "outputs": [
    {
     "output_type": "stream",
     "name": "stdout",
     "text": "All assertions passed\n"
    }
   ],
   "source": [
    "mesh_width = 45.00  # mm\n",
    "mesh_height = 30.00  # mm\n",
    "spatial_resolution = 5  # mm\n",
    "\n",
    "mesh = wrp.Triangular2DMesh(mesh_width, mesh_height,\n",
    "    spatial_resolution)\n",
    "\n",
    "mesh_coords = mesh.GetMeshCoordinates()\n",
    "# How large should this vector be?\n",
    "lenk_internal = np.ceil(mesh_width * 2 / spatial_resolution)\n",
    "lenk_internal += 1 - np.mod(lenk_internal, 2)\n",
    "expected_c = np.ceil(mesh_height / (spatial_resolution\n",
    "    * np.sqrt(3) / 2))\n",
    "expected_c += np.mod(expected_c, 2)\n",
    "expected_k = lenk_internal // 2 + 1\n",
    "\n",
    "assert(expected_c == mesh_coords.shape[0])\n",
    "assert(expected_k == mesh_coords.shape[1])\n",
    "assert(2 == mesh_coords.shape[2])\n",
    "assert(mesh_coords.dtype == np.float32)\n",
    "print(\"All assertions passed\")"
   ]
  },
  {
   "cell_type": "code",
   "execution_count": null,
   "metadata": {},
   "outputs": [],
   "source": []
  }
 ],
 "metadata": {
  "language_info": {
   "codemirror_mode": {
    "name": "ipython",
    "version": 3
   },
   "file_extension": ".py",
   "mimetype": "text/x-python",
   "name": "python",
   "nbconvert_exporter": "python",
   "pygments_lexer": "ipython3",
   "version": "3.8.2-final"
  },
  "orig_nbformat": 2,
  "kernelspec": {
   "name": "python3",
   "display_name": "Python 3"
  }
 },
 "nbformat": 4,
 "nbformat_minor": 2
}