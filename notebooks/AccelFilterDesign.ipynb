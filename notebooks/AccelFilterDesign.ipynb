{
 "cells": [
  {
   "cell_type": "code",
   "execution_count": null,
   "metadata": {},
   "outputs": [],
   "source": [
    "import numpy as np\n",
    "from scipy.signal import butter, freqz\n",
    "from matplotlib import pyplot as plt \n",
    "\n",
    "sample_rate = 44100.\n",
    "hpf_cutoff = 5.\n",
    "lpf_cutoff = 100.\n",
    "\n",
    "worN = 4096\n",
    "f = np.linspace(0, sample_rate/2, worN)\n",
    "\n",
    "b, a = butter(1, hpf_cutoff / sample_rate * 2, btype=\"high\")\n",
    "w, h = freqz(b, a, worN=worN)\n",
    "b2, a2 = butter(1, lpf_cutoff / sample_rate * 2, btype=\"low\")\n",
    "w, h2 = freqz(b2, a2, worN=worN)\n",
    "\n",
    "_ = plt.semilogx(f, 20*np.log10(np.abs(h)), f, 20*np.log10(np.abs(h2)))\n",
    "_ = plt.ylim([-30, +3])\n",
    "\n",
    "print(\"hit.SetHPFCoef(%s);\" % (\", \".join(str(n) for n in (b[0], b[1], a[1]))))\n",
    "print(\"hit.SetLPFCoef(%s);\" % (\", \".join(str(n) for n in (b2[0], b2[1], a2[1]))))"
   ]
  },
  {
   "cell_type": "code",
   "execution_count": null,
   "metadata": {},
   "outputs": [],
   "source": []
  }
 ],
 "metadata": {
  "language_info": {
   "codemirror_mode": {
    "name": "ipython",
    "version": 3
   },
   "file_extension": ".py",
   "mimetype": "text/x-python",
   "name": "python",
   "nbconvert_exporter": "python",
   "pygments_lexer": "ipython3",
   "version": "3.8.2-final"
  },
  "orig_nbformat": 2,
  "kernelspec": {
   "name": "python3",
   "display_name": "Python 3"
  }
 },
 "nbformat": 4,
 "nbformat_minor": 2
}