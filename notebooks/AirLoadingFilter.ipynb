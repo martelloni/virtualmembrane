{
 "cells": [
  {
   "cell_type": "code",
   "execution_count": null,
   "metadata": {},
   "outputs": [],
   "source": [
    "import numpy as np\n",
    "from matplotlib import pyplot as plt\n",
    "from scipy.signal import freqz\n",
    "sample_rate = 22050."
   ]
  },
  {
   "cell_type": "code",
   "execution_count": null,
   "metadata": {
    "tags": []
   },
   "outputs": [],
   "source": [
    "k_0 = -0.8\n",
    "m_0 = 0.15\n",
    "F_id = 100.\n",
    "sqrt_2 = np.sqrt(2.)\n",
    "pi_squared = np.pi ** 2\n",
    "sqrt_2_by_pi_squared_f_id_k_0 = sqrt_2 * pi_squared * (F_id / sample_rate) ** 2 * k_0\n",
    "\n",
    "a_0 = 1 / (1 - sqrt_2_by_pi_squared_f_id_k_0 + sqrt_2 * m_0)  # Can a0/3 be set to power of 2?\n",
    "a_1 = sqrt_2_by_pi_squared_f_id_k_0 + sqrt_2 * m_0\n",
    "a_2 = 1 + sqrt_2_by_pi_squared_f_id_k_0 - sqrt_2 * m_0\n",
    "\n",
    "b = a_0 * np.array([1., 0, -1.])\n",
    "a = np.array([1, -2.*a_0*a_1, -a_0*a_2])\n",
    "\n",
    "w, h = freqz(b, a)\n",
    "plt.subplot(211)\n",
    "plt.semilogx(w/np.pi, 20*np.log10(np.abs(h)))\n",
    "plt.subplot(212)\n",
    "plt.semilogx(w/np.pi, np.angle(h))\n",
    "\n",
    "print(b)\n",
    "print(a)\n",
    "\n",
    "## Fundamentally an allpass but I can design a better one"
   ]
  },
  {
   "cell_type": "code",
   "execution_count": null,
   "metadata": {},
   "outputs": [],
   "source": []
  }
 ],
 "metadata": {
  "language_info": {
   "codemirror_mode": {
    "name": "ipython",
    "version": 3
   },
   "file_extension": ".py",
   "mimetype": "text/x-python",
   "name": "python",
   "nbconvert_exporter": "python",
   "pygments_lexer": "ipython3",
   "version": "3.8.2-final"
  },
  "orig_nbformat": 2,
  "kernelspec": {
   "name": "python3",
   "display_name": "Python 3"
  }
 },
 "nbformat": 4,
 "nbformat_minor": 2
}