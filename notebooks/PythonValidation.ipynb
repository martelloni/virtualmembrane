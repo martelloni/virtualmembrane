{
 "cells": [
  {
   "cell_type": "markdown",
   "metadata": {},
   "source": [
    "# Triangular2DMesh validation\n",
    "\n",
    "## Step 1: basic validation"
   ]
  },
  {
   "cell_type": "code",
   "execution_count": null,
   "metadata": {},
   "outputs": [],
   "source": [
    "import numpy as np\n",
    "from matplotlib import pyplot as plt\n",
    "import DSPPythonWrapper as wrp\n",
    "import ipywidgets as widgets\n",
    "\n",
    "## Global parameters/constants\n",
    "plt.rcParams['figure.figsize'] = [6, 6]"
   ]
  },
  {
   "cell_type": "code",
   "execution_count": null,
   "metadata": {
    "tags": []
   },
   "outputs": [],
   "source": [
    "mesh_width = 104.5  # mm\n",
    "mesh_height = 104.5  # mm\n",
    "spatial_resolution = 5  # mm\n",
    "\n",
    "mesh = wrp.Triangular2DMesh(mesh_width, mesh_height,\n",
    "    spatial_resolution)\n",
    "mesh.MakeCircular()\n",
    "mesh.SetPickup(spatial_resolution, mesh_width/2)\n",
    "\n",
    "mesh_coords = mesh.GetMeshCoordinates()\n",
    "# How large should this vector be?\n",
    "lenk_internal = np.ceil(mesh_width * 2 / spatial_resolution)\n",
    "lenk_internal += 1 - np.mod(lenk_internal, 2)\n",
    "expected_c = np.ceil(mesh_height / (spatial_resolution\n",
    "    * np.sqrt(3) / 2))\n",
    "expected_c += np.mod(expected_c, 2)\n",
    "expected_k_odd = lenk_internal // 2\n",
    "expected_k_even = lenk_internal // 2 + 1\n",
    "expected_data_length = expected_c * expected_k_even - (expected_c // 2)\n",
    "assert(expected_data_length == mesh_coords.shape[0])\n",
    "assert(2 == mesh_coords.shape[1])\n",
    "assert(mesh_coords.dtype == np.float32)\n",
    "print(\"All assertions passed\")"
   ]
  },
  {
   "cell_type": "code",
   "execution_count": null,
   "metadata": {},
   "outputs": [],
   "source": [
    "## Plot mesh coordinates\n",
    "\n",
    "def plot_mesh(title):\n",
    "    fig = plt.figure()\n",
    "    ax = plt.axes()\n",
    "    plt.scatter(mesh_coords[:,0], mesh_coords[:,1], c=\"r\")\n",
    "    ax.set_aspect(\"equal\")\n",
    "    fig.suptitle(title)\n",
    "    return (fig, ax)\n",
    "\n",
    "fig, ax = plot_mesh(\"Mesh structure VS specifications\")\n",
    "from matplotlib.patches import Rectangle\n",
    "mesharea = Rectangle((0, 0), mesh_width, mesh_height, facecolor='none', linewidth=2, edgecolor=\"b\")\n",
    "_ = ax.add_patch(mesharea)"
   ]
  },
  {
   "cell_type": "code",
   "execution_count": null,
   "metadata": {
    "tags": []
   },
   "outputs": [],
   "source": [
    "## Inspect mesh mask\n",
    "\n",
    "mesh_mask = mesh.GetMask()\n",
    "assert(expected_data_length == mesh_mask.shape[0])\n",
    "assert(6 == mesh_mask.shape[1])\n",
    "print(\"All assertions passed\")"
   ]
  },
  {
   "cell_type": "code",
   "execution_count": null,
   "metadata": {},
   "outputs": [],
   "source": [
    "## Plot mesh mask structure\n",
    "# Commented out, takes too long\n",
    "def getLinePoints(xp, yp, direction):\n",
    "    \"\"\"\n",
    "    xp, yp: coordinates of the mesh point\n",
    "    direction: enum of the direction clockwise (NE, E, SE, SW, W, NW)\n",
    "    \"\"\"\n",
    "    angles = np.arange(-np.pi/3, 5/3*np.pi, np.pi/3)\n",
    "    yd = np.sin(angles[direction]) * spatial_resolution / 2 + yp\n",
    "    xd = np.cos(angles[direction]) * spatial_resolution / 2 + xp\n",
    "    return ((xd, xp), (yd, yp))\n",
    "\n",
    "fig, ax = plot_mesh(\"Mesh connections\")\n",
    "for point_idx, point_coords in enumerate(mesh_coords):\n",
    "    point_mask = mesh_mask[point_idx]\n",
    "    for dir, dirmask in enumerate(point_mask):\n",
    "        if point_mask[dir]:\n",
    "            plt.plot(*getLinePoints(*point_coords, dir), color=\"k\")"
   ]
  },
  {
   "cell_type": "code",
   "execution_count": null,
   "metadata": {},
   "outputs": [],
   "source": [
    "## Verify zeroing-out of initial junction pressure\n",
    "\n",
    "from mpl_toolkits.mplot3d import Axes3D\n",
    "fig = plt.figure()\n",
    "ax = fig.gca(projection='3d')\n",
    "_ = ax.plot_trisurf(mesh_coords[:,0], mesh_coords[:,1], mesh.GetV(),\n",
    "    alpha=0.8)\n",
    "sourcex, sourcey = mesh.GetSource()\n",
    "pickupx, pickupy = mesh.GetPickup()\n",
    "_ = ax.scatter(sourcex, sourcey, 0, color=\"r\")\n",
    "_ = ax.scatter(pickupx, pickupy, 0, color=\"g\")\n",
    "_ = ax.set_zlim([-10, 10])"
   ]
  },
  {
   "cell_type": "code",
   "execution_count": null,
   "metadata": {
    "tags": []
   },
   "outputs": [],
   "source": [
    "## Generate Gaussian impulse as stimulus\n",
    "from scipy.signal import gaussian\n",
    "M = 21\n",
    "impulse = gaussian(M, M/2/np.pi)\n",
    "#impulse *= np.sin(2 * np.pi * np.arange(M) / M)\n",
    "fig = plt.figure()\n",
    "fig.suptitle(\"Excitation impulse\")\n",
    "ax = fig.gca()\n",
    "fig_ = ax.plot(impulse)\n",
    "# Serialise C-style into textbox for export\n",
    "impulse_data_str = [\"\\n    \" + str(n) if i % 4 == 0 else str(n) for i,n in enumerate(impulse)]\n",
    "impulse_str = \"float impulse[impulse_length] = \\n{%s\\n};\" % (\n",
    "    \", \".join(impulse_data_str)\n",
    ")\n",
    "print(\"unsigned int impulse_length = %s;\" % M)\n",
    "print(impulse_str)"
   ]
  },
  {
   "cell_type": "code",
   "execution_count": null,
   "metadata": {},
   "outputs": [],
   "source": [
    "## Nice looking animation\n",
    "\n",
    "import matplotlib.animation\n",
    "\n",
    "# Uncomment if unit impulse (Kronecker delta) needs using instead\n",
    "#impulse = np.array([1.])\n",
    "\n",
    "# Plot creation\n",
    "fig3d = plt.figure()\n",
    "fig3d.suptitle(\"Mesh velocity\")\n",
    "ax3d = fig3d.gca(projection='3d')\n",
    "sourcex, sourcey = mesh.GetSource()\n",
    "pickupx, pickupy = mesh.GetPickup()\n",
    "_ = ax3d.scatter(sourcex, sourcey, 0, color=\"r\")\n",
    "_ = ax3d.scatter(pickupx, pickupy, 0, color=\"g\")\n",
    "_ = ax3d.plot_trisurf(mesh_coords[:,0], mesh_coords[:,1], mesh.GetV(),\n",
    "    alpha=0.8)\n",
    "\n",
    "# Pre-allocate mesh output\n",
    "tail_length = 50\n",
    "total_length = len(impulse) + tail_length\n",
    "mesh_output = np.zeros([total_length, *mesh.GetV().shape])\n",
    "signal = np.zeros([total_length])\n",
    "\n",
    "# Processing\n",
    "mesh.Reset()\n",
    "# ...Attenuation?\n",
    "#mesh.SetAttenuation(0.1)\n",
    "# Impulse\n",
    "for smpidx, imp_sample in enumerate(impulse):\n",
    "    signal[smpidx] = mesh.ProcessSample(True, imp_sample)\n",
    "    mesh_output[smpidx] = mesh.GetV()\n",
    "# Tail\n",
    "for n in range(tail_length):\n",
    "    signal[len(impulse) + n] = mesh.ProcessSample(False, 0)\n",
    "    mesh_output[len(impulse) + n] = mesh.GetV()\n",
    "\n",
    "# Animation processing\n",
    "def animate(i):\n",
    "    ax3d.clear()\n",
    "    ax3d.set_zlim([-0.1, 0.1])\n",
    "    #ax3d.set_zlim([-1, 1])\n",
    "    ax3d.plot_trisurf(mesh_coords[:,0], mesh_coords[:,1], mesh_output[i],\n",
    "        alpha=0.8)\n",
    "    ax3d.scatter(sourcex, sourcey, 0, color=\"r\")\n",
    "    return ax3d.scatter(pickupx, pickupy, 0, color=\"g\")\n",
    "\n",
    "ani = matplotlib.animation.FuncAnimation(fig3d, animate, frames=total_length)\n",
    "\n",
    "from IPython.display import HTML\n",
    "HTML(ani.to_jshtml())\n"
   ]
  },
  {
   "cell_type": "code",
   "execution_count": null,
   "metadata": {},
   "outputs": [],
   "source": [
    "fig = plt.figure()\n",
    "fig.suptitle(\"Signal from mesh animation\")\n",
    "ax1 = plt.subplot(211)\n",
    "ax1.plot(signal)\n",
    "ax2 = plt.subplot(212)\n",
    "ax2.plot(\n",
    "    20 * np.log10(np.abs(np.fft.rfft(signal)))\n",
    ")"
   ]
  },
  {
   "cell_type": "markdown",
   "metadata": {},
   "source": [
    "## Step 2: sound simulation"
   ]
  },
  {
   "cell_type": "code",
   "execution_count": null,
   "metadata": {
    "tags": []
   },
   "outputs": [],
   "source": [
    "## Design the mesh in theory\n",
    "time_sample_rate = 44100.  # mm\n",
    "sim_mesh_width = 300.  # mm\n",
    "sim_mesh_height = 300. #sim_mesh_width * 0.75  # mm\n",
    "medium_speed = 112. * 1000.  # mm/s\n",
    "spatial_sample_rate = np.sqrt(2.) * medium_speed * 1./time_sample_rate\n",
    "attenuation = 0.0005\n",
    "\n",
    "print(\"Mesh dimensions: %s x %s mm\" % (sim_mesh_width, sim_mesh_height))\n",
    "print(\"Medium speed: %s mm / s\" % medium_speed)\n",
    "print(\"Spatial sampling: %s mm\" % spatial_sample_rate)\n",
    "print(\"Points needed: %s by %s\" % (np.ceil(sim_mesh_width / spatial_sample_rate),\n",
    "    np.ceil(sim_mesh_height / np.sqrt(3) * 2 / spatial_sample_rate)))\n",
    "print(\"\\n\")\n",
    "print(\"\"\"Properties p {\n",
    "    %s,  // width mm\n",
    "    %s,  // height mm\n",
    "    %s,  // spatial sampling mm\n",
    "}\"\"\" % (sim_mesh_width, sim_mesh_height, spatial_sample_rate))"
   ]
  },
  {
   "cell_type": "code",
   "execution_count": null,
   "metadata": {},
   "outputs": [],
   "source": [
    "## Make a train of impulses\n",
    "from scipy.signal import gaussian\n",
    "n_impulses = 3\n",
    "impulse_rate = 5 * time_sample_rate\n",
    "impulse_duration = 51\n",
    "total_duration = n_impulses * impulse_rate\n",
    "pause_between_impulses = impulse_rate - impulse_duration\n",
    "\n",
    "impulse = gaussian(impulse_duration, impulse_duration/2/np.pi)\n",
    "impulse_train = np.concatenate([\n",
    "    np.concatenate([impulse, np.zeros([int(pause_between_impulses)])]) \\\n",
    "    for _ in range(n_impulses)])\n",
    "\n",
    "fig = plt.figure()\n",
    "fig.suptitle(\"Impulse train\")\n",
    "_ = plt.plot(impulse_train)"
   ]
  },
  {
   "cell_type": "code",
   "execution_count": null,
   "metadata": {
    "tags": []
   },
   "outputs": [],
   "source": [
    "## Create the mesh and process the data\n",
    "\n",
    "# Little solution for a progress bar taken from\n",
    "# https://www.mikulskibartosz.name/how-to-display-a-progress-bar-in-jupyter-notebook/\n",
    "from IPython.display import clear_output\n",
    "\n",
    "def update_progress(progress):\n",
    "    bar_length = 20\n",
    "    if isinstance(progress, int):\n",
    "        progress = float(progress)\n",
    "    if not isinstance(progress, float):\n",
    "        progress = 0\n",
    "    if progress < 0:\n",
    "        progress = 0\n",
    "    if progress >= 1:\n",
    "        progress = 1\n",
    "    block = int(round(bar_length * progress))\n",
    "    clear_output(wait = True)\n",
    "    text = \"Progress: [{0}] {1:.1f}%\".format( \"#\" * block + \"-\" * (bar_length - block), progress * 100)\n",
    "    print(text)\n",
    "\n",
    "\n",
    "mesh = wrp.Triangular2DMesh(sim_mesh_width, sim_mesh_height,\n",
    "    spatial_sample_rate)\n",
    "mesh.MakeCircular()\n",
    "mesh.SetPickup(spatial_sample_rate, sim_mesh_width/2)\n",
    "mesh.SetAttenuation(attenuation)\n",
    "output = np.zeros(impulse_train.shape)\n",
    "for n, x_n in enumerate(impulse_train):\n",
    "    output[n] = mesh.ProcessSample(True, x_n)\n",
    "    if (n % (total_duration // 100) == 0):\n",
    "       update_progress(n / total_duration)\n",
    "update_progress(1)\n"
   ]
  },
  {
   "cell_type": "code",
   "execution_count": null,
   "metadata": {},
   "outputs": [],
   "source": [
    "fig = plt.figure()\n",
    "fig.suptitle(\"Mesh output\")\n",
    "_ = plt.plot(output)\n",
    "\n",
    "output_norm = output / np.max(output)\n",
    "\n",
    "from scipy.io import wavfile\n",
    "wavfile.write(\"%.1f_%.1f_%.1f_%.4f_mesh_output_%d.wav\" % \\\n",
    "    (sim_mesh_width, sim_mesh_height, spatial_sample_rate, attenuation,\n",
    "    int(time_sample_rate)), int(time_sample_rate), output_norm)"
   ]
  },
  {
   "cell_type": "code",
   "execution_count": null,
   "metadata": {},
   "outputs": [],
   "source": []
  }
 ],
 "metadata": {
  "language_info": {
   "codemirror_mode": {
    "name": "ipython",
    "version": 3
   },
   "file_extension": ".py",
   "mimetype": "text/x-python",
   "name": "python",
   "nbconvert_exporter": "python",
   "pygments_lexer": "ipython3",
   "version": "3.8.2-final"
  },
  "orig_nbformat": 2,
  "kernelspec": {
   "name": "python3",
   "display_name": "Python 3"
  }
 },
 "nbformat": 4,
 "nbformat_minor": 2
}