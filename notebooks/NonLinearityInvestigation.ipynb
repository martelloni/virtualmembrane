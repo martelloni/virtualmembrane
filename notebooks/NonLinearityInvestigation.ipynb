{
 "metadata": {
  "language_info": {
   "codemirror_mode": {
    "name": "ipython",
    "version": 3
   },
   "file_extension": ".py",
   "mimetype": "text/x-python",
   "name": "python",
   "nbconvert_exporter": "python",
   "pygments_lexer": "ipython3",
   "version": 3
  },
  "orig_nbformat": 2,
  "kernelspec": {
   "name": "python_defaultSpec_1596810387294",
   "display_name": "Python 3.8.2 64-bit"
  }
 },
 "nbformat": 4,
 "nbformat_minor": 2,
 "cells": [
  {
   "cell_type": "code",
   "execution_count": null,
   "metadata": {},
   "outputs": [],
   "source": [
    "import numpy as np\n",
    "from matplotlib import pyplot as plt\n",
    "from scipy.io import wavfile\n",
    "from scipy.signal import bessel, freqz, lfilter, butter\n",
    "import pandas as pd\n",
    "\n",
    "sample_rate = 44100."
   ]
  },
  {
   "cell_type": "code",
   "execution_count": null,
   "metadata": {},
   "outputs": [],
   "source": [
    "# X-over filter design\n",
    "xover_freq = 100.\n",
    "filter_order = 4\n",
    "\n",
    "xover_w = xover_freq/sample_rate*2\n",
    "b_lo, a_lo = bessel(filter_order, xover_w, btype=\"low\")\n",
    "b_hi, a_hi = bessel(filter_order, xover_w, btype=\"high\")\n",
    "w, h_lo = freqz(b_lo, a_lo, worN=1024)\n",
    "w, h_hi = freqz(b_hi, a_hi, worN=1024)\n",
    "_ = plt.semilogx(w/np.pi * sample_rate/2, 20.*np.log10(np.abs(h_lo)),\n",
    "        w/np.pi * sample_rate/2, 20.*np.log10(np.abs(h_hi)))"
   ]
  },
  {
   "cell_type": "code",
   "execution_count": null,
   "metadata": {},
   "outputs": [],
   "source": [
    "# Waveshaper design: cheby\n",
    "x = np.linspace(-1, 1, 101)\n",
    "cheby5 = lambda x: 16 * x ** 5 - 20 * x ** 3 + 5 * x\n",
    "y = cheby5(x)\n",
    "plt.plot(x, y)\n"
   ]
  },
  {
   "cell_type": "code",
   "execution_count": null,
   "metadata": {},
   "outputs": [],
   "source": [
    "# Test on chess_box\n",
    "fs, chess_box_in = wavfile.read(\"chess_box.wav\")\n",
    "\n",
    "assert fs == sample_rate\n",
    "\n",
    "def test(input, fn, test_case_name):\n",
    "    input_lpf = lfilter(b_lo, a_lo, input)\n",
    "    out = fn(input_lpf)\n",
    "    out *=  1. / np.max(out)\n",
    "    wavfile.write(\"chess_box_%s.wav\" % test_case_name,\n",
    "            int(sample_rate), out)\n",
    "    return out\n",
    "\n",
    "test(chess_box_in, cheby5, \"cheby\")"
   ]
  },
  {
   "cell_type": "code",
   "execution_count": null,
   "metadata": {
    "tags": []
   },
   "outputs": [],
   "source": [
    "# Waveshaper design: remainder from bit-crushing\n",
    "bits = 12\n",
    "remainder_gain = 10.\n",
    "\n",
    "chunk_size = 2. ** (-(bits - 1))\n",
    "\n",
    "b_smooth, a_smooth = butter(1, 4000./sample_rate*2)\n",
    "\n",
    "def bitcrush(input):\n",
    "    global chunk_size\n",
    "    global remainder_gain\n",
    "    input_crushed = np.round(input / chunk_size) * chunk_size\n",
    "    input_remainder = input - input_crushed\n",
    "    input_grunged = input_crushed + input_remainder * remainder_gain\n",
    "    return lfilter(b_smooth, a_smooth, input_grunged)\n",
    "\n",
    "x = np.linspace(-1, 1, 101)\n",
    "y = bitcrush(x)\n",
    "plt.plot(x, y)"
   ]
  },
  {
   "cell_type": "code",
   "execution_count": null,
   "metadata": {},
   "outputs": [],
   "source": [
    "# Test bitcrushing on chessbox\n",
    "\n",
    "test(chess_box_in, bitcrush, \"bitcrush\")"
   ]
  },
  {
   "cell_type": "code",
   "execution_count": null,
   "metadata": {},
   "outputs": [],
   "source": [
    "# White noise with envelope\n",
    "\n",
    "# Design A/R smoothing filter\n",
    "\n",
    "responsiveness = 0.01\n",
    "\n",
    "b_envsm, a_envsm = butter(1, responsiveness)\n",
    "\n",
    "def whitenoiseenv(input):\n",
    "    noise = np.random.random(input.shape) * 2 - 1\n",
    "    input_envelope = np.abs(input)\n",
    "    input_envelope_lpf = lfilter(b_envsm, a_envsm, input_envelope)\n",
    "    return noise * input_envelope\n",
    "\n",
    "test(chess_box_in, whitenoiseenv, \"whitenoiseenv\")"
   ]
  },
  {
   "cell_type": "code",
   "execution_count": null,
   "metadata": {},
   "outputs": [],
   "source": [
    "# Filtered white noise with envelope\n",
    "\n",
    "noise_fcut = 1000.\n",
    "\n",
    "b_noise, a_noise = butter(1, noise_fcut / sample_rate * 2)\n",
    "\n",
    "def whitenoiseenvfilt(input):\n",
    "    noise = np.random.random(input.shape) * 2 - 1\n",
    "    input_envelope = np.abs(input)\n",
    "    input_envelope_lpf = lfilter(b_envsm, a_envsm, input_envelope)\n",
    "    filt_noise = lfilter(b_noise, a_noise, noise)\n",
    "    return filt_noise * input_envelope\n",
    "\n",
    "test(chess_box_in, whitenoiseenvfilt, \"whitenoiseenvfilt\")"
   ]
  },
  {
   "cell_type": "code",
   "execution_count": null,
   "metadata": {},
   "outputs": [],
   "source": [
    "# Voss pink noise\n",
    "\n",
    "def voss(nrows, ncols=16):\n",
    "    \"\"\"Generates pink noise using the Voss-McCartney algorithm.\n",
    "    \n",
    "    nrows: number of values to generate\n",
    "    rcols: number of random sources to add\n",
    "    \n",
    "    returns: NumPy array\n",
    "    \"\"\"\n",
    "    array = np.empty((nrows, ncols))\n",
    "    array.fill(np.nan)\n",
    "    array[0, :] = np.random.random(ncols)\n",
    "    array[:, 0] = np.random.random(nrows)\n",
    "    \n",
    "    # the total number of changes is nrows\n",
    "    n = nrows\n",
    "    cols = np.random.geometric(0.5, n)\n",
    "    cols[cols >= ncols] = 0\n",
    "    rows = np.random.randint(nrows, size=n)\n",
    "    array[rows, cols] = np.random.random(n)\n",
    "\n",
    "    df = pd.DataFrame(array)\n",
    "    df.fillna(method='ffill', axis=0, inplace=True)\n",
    "    total = df.sum(axis=1)\n",
    "\n",
    "    return total.values\n",
    "\n",
    "\n",
    "def pinknoiseenv(input):\n",
    "    noise = voss(len(input), ncols=1)\n",
    "    input_envelope = np.abs(input)\n",
    "    input_envelope_lpf = lfilter(b_envsm, a_envsm, input_envelope)\n",
    "    return noise * input_envelope\n",
    "\n",
    "test(chess_box_in, pinknoiseenv, \"pinknoiseenv\")"
   ]
  },
  {
   "cell_type": "code",
   "execution_count": null,
   "metadata": {},
   "outputs": [],
   "source": []
  }
 ]
}